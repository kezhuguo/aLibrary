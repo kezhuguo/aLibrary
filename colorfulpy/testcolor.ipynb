{
 "cells": [
  {
   "cell_type": "code",
   "execution_count": 2,
   "metadata": {},
   "outputs": [],
   "source": [
    "from colorfulpy import *"
   ]
  },
  {
   "cell_type": "code",
   "execution_count": 3,
   "metadata": {},
   "outputs": [
    {
     "name": "stdout",
     "output_type": "stream",
     "text": [
      "{2: [[[200, 215, 235], [250, 235, 199]], [[159, 201, 223], [241, 225, 199]], [[140, 163, 195], [210, 173, 168]]], 3: [['#828D93', '#EDB176', '#78C2E0'], ['#D87070', '#7D9BE5', '#F5D78F']], 4: [[[164, 200, 217], [108, 150, 204], [237, 174, 146], [201, 35, 33]]], 5: [['#F0A780', '#E79397', '#97C8AF', '#96B6D8', '#A797DA'], ['#9281DD', '#B7617D', '#E4B112', '#B7DB29', '#159FD7']], 6: [['#e1703c', '#f2bf9e', '#4091cf', '#a1c6e7', '#8cba54', '#ccddae']], 7: [[[191, 193, 165], [246, 198, 246], [152, 202, 247], [255, 248, 171], [205, 192, 219], [160, 221, 175], [248, 211, 169]], ['#818181', '#2A5522', '#BF9895', '#E07E35', '#F2CCA0', '#A9C4E6', '#D1392B']]}\n"
     ]
    }
   ],
   "source": [
    "print(colordict)"
   ]
  },
  {
   "cell_type": "code",
   "execution_count": 5,
   "metadata": {},
   "outputs": [
    {
     "name": "stdout",
     "output_type": "stream",
     "text": [
      "Error! No palatte for 1 colors\n",
      "\n",
      "rgb\n",
      "[[200, 215, 235], [250, 235, 199]]\n"
     ]
    },
    {
     "data": {
      "image/png": "[encoded data removed]",
      "text/plain": [
       "<Figure size 200x100 with 1 Axes>"
      ]
     },
     "metadata": {},
     "output_type": "display_data"
    },
    {
     "name": "stdout",
     "output_type": "stream",
     "text": [
      "rgb\n",
      "[[159, 201, 223], [241, 225, 199]]\n"
     ]
    },
    {
     "data": {
      "image/png": "[encoded data removed]",
      "text/plain": [
       "<Figure size 200x100 with 1 Axes>"
      ]
     },
     "metadata": {},
     "output_type": "display_data"
    },
    {
     "name": "stdout",
     "output_type": "stream",
     "text": [
      "rgb\n",
      "[[140, 163, 195], [210, 173, 168]]\n"
     ]
    },
    {
     "data": {
      "image/png": "[encoded data removed]",
      "text/plain": [
       "<Figure size 200x100 with 1 Axes>"
      ]
     },
     "metadata": {},
     "output_type": "display_data"
    },
    {
     "name": "stdout",
     "output_type": "stream",
     "text": [
      "\n",
      "hex\n",
      "['#828D93', '#EDB176', '#78C2E0']\n"
     ]
    },
    {
     "data": {
      "image/png": "[encoded data removed]",
      "text/plain": [
       "<Figure size 300x100 with 1 Axes>"
      ]
     },
     "metadata": {},
     "output_type": "display_data"
    },
    {
     "name": "stdout",
     "output_type": "stream",
     "text": [
      "hex\n",
      "['#D87070', '#7D9BE5', '#F5D78F']\n"
     ]
    },
    {
     "data": {
      "image/png": "[encoded data removed]",
      "text/plain": [
       "<Figure size 300x100 with 1 Axes>"
      ]
     },
     "metadata": {},
     "output_type": "display_data"
    },
    {
     "name": "stdout",
     "output_type": "stream",
     "text": [
      "\n",
      "rgb\n",
      "[[164, 200, 217], [108, 150, 204], [237, 174, 146], [201, 35, 33]]\n"
     ]
    },
    {
     "data": {
      "image/png": "[encoded data removed]",
      "text/plain": [
       "<Figure size 400x100 with 1 Axes>"
      ]
     },
     "metadata": {},
     "output_type": "display_data"
    },
    {
     "name": "stdout",
     "output_type": "stream",
     "text": [
      "\n",
      "hex\n",
      "['#F0A780', '#E79397', '#97C8AF', '#96B6D8', '#A797DA']\n"
     ]
    },
    {
     "data": {
      "image/png": "[encoded data removed]",
      "text/plain": [
       "<Figure size 500x100 with 1 Axes>"
      ]
     },
     "metadata": {},
     "output_type": "display_data"
    },
    {
     "name": "stdout",
     "output_type": "stream",
     "text": [
      "hex\n",
      "['#9281DD', '#B7617D', '#E4B112', '#B7DB29', '#159FD7']\n"
     ]
    },
    {
     "data": {
      "image/png": "[encoded data removed]",
      "text/plain": [
       "<Figure size 500x100 with 1 Axes>"
      ]
     },
     "metadata": {},
     "output_type": "display_data"
    },
    {
     "name": "stdout",
     "output_type": "stream",
     "text": [
      "\n",
      "hex\n",
      "['#e1703c', '#f2bf9e', '#4091cf', '#a1c6e7', '#8cba54', '#ccddae']\n"
     ]
    },
    {
     "data": {
      "image/png": "[encoded data removed]",
      "text/plain": [
       "<Figure size 600x100 with 1 Axes>"
      ]
     },
     "metadata": {},
     "output_type": "display_data"
    },
    {
     "name": "stdout",
     "output_type": "stream",
     "text": [
      "\n",
      "rgb\n",
      "[[191, 193, 165], [246, 198, 246], [152, 202, 247], [255, 248, 171], [205, 192, 219], [160, 221, 175], [248, 211, 169]]\n"
     ]
    },
    {
     "data": {
      "image/png": "[encoded data removed]",
      "text/plain": [
       "<Figure size 700x100 with 1 Axes>"
      ]
     },
     "metadata": {},
     "output_type": "display_data"
    },
    {
     "name": "stdout",
     "output_type": "stream",
     "text": [
      "hex\n",
      "['#818181', '#2A5522', '#BF9895', '#E07E35', '#F2CCA0', '#A9C4E6', '#D1392B']\n"
     ]
    },
    {
     "data": {
      "image/png": "[encoded data removed]",
      "text/plain": [
       "<Figure size 700x100 with 1 Axes>"
      ]
     },
     "metadata": {},
     "output_type": "display_data"
    },
    {
     "name": "stdout",
     "output_type": "stream",
     "text": [
      "\n"
     ]
    }
   ],
   "source": [
    "show_galary()"
   ]
  },
  {
   "cell_type": "code",
   "execution_count": null,
   "metadata": {},
   "outputs": [],
   "source": []
  }
 ],
 "metadata": {
  "kernelspec": {
   "display_name": "Python 3",
   "language": "python",
   "name": "python3"
  },
  "language_info": {
   "codemirror_mode": {
    "name": "ipython",
    "version": 3
   },
   "file_extension": ".py",
   "mimetype": "text/x-python",
   "name": "python",
   "nbconvert_exporter": "python",
   "pygments_lexer": "ipython3",
   "version": "3.9.6"
  }
 },
 "nbformat": 4,
 "nbformat_minor": 2
}
